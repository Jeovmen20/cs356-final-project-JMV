{
 "cells": [
  {
   "cell_type": "code",
   "execution_count": 5,
   "id": "eceedc63-cf29-4b97-a2c0-94d004c75faf",
   "metadata": {},
   "outputs": [],
   "source": [
    "import pandas as pd\n",
    "import sklearn\n",
    "from sklearn.model_selection import train_test_split\n",
    "from sklearn.linear_model import LinearRegression\n",
    "from sklearn.metrics import mean_squared_error, r2_score"
   ]
  },
  {
   "cell_type": "code",
   "execution_count": 7,
   "id": "1e94739a-ba73-4c58-a7c5-9857c0d13fb2",
   "metadata": {},
   "outputs": [
    {
     "name": "stdout",
     "output_type": "stream",
     "text": [
      "   Rank                      Name Platform    Year         Genre Publisher  NA_Sales  EU_Sales  JP_Sales  Other_Sales  Global_Sales\n",
      "0     1                Wii Sports      Wii  2006.0        Sports  Nintendo     41.49     29.02      3.77         8.46         82.74\n",
      "1     2         Super Mario Bros.      NES  1985.0      Platform  Nintendo     29.08      3.58      6.81         0.77         40.24\n",
      "2     3            Mario Kart Wii      Wii  2008.0        Racing  Nintendo     15.85     12.88      3.79         3.31         35.82\n",
      "3     4         Wii Sports Resort      Wii  2009.0        Sports  Nintendo     15.75     11.01      3.28         2.96         33.00\n",
      "4     5  Pokemon Red/Pokemon Blue       GB  1996.0  Role-Playing  Nintendo     11.27      8.89     10.22         1.00         31.37\n"
     ]
    }
   ],
   "source": [
    "df = pd.read_csv('vgsales.csv')\n",
    "df_cleaned = df.dropna()\n",
    "print(df.head())"
   ]
  },
  {
   "cell_type": "code",
   "execution_count": 15,
   "id": "c54a4bc1-7068-4a86-aeb6-3b4392a94b15",
   "metadata": {},
   "outputs": [
    {
     "name": "stdout",
     "output_type": "stream",
     "text": [
      "\n",
      "🔹 Transposed view of first 3 rows (easier to see all columns):\n",
      "                                    0       1       2       3       4       5       6       7       8       9       10      11      12      13      14      15      16      17      18      19\n",
      "Rank                                 1       2       3       4       5       6       7       8       9      10      11      12      13      14      15      16      17      18      19      20\n",
      "Year                            2006.0  1985.0  2008.0  2009.0  1996.0  1989.0  2006.0  2006.0  2009.0  1984.0  2005.0  2005.0  1999.0  2007.0  2009.0  2010.0  2013.0  2004.0  1990.0  2005.0\n",
      "NA_Sales                         41.49   29.08   15.85   15.75   11.27    23.2   11.38   14.03   14.59   26.93    9.07    9.81     9.0    8.94    9.09   14.97    7.01    9.43   12.78    4.75\n",
      "EU_Sales                         29.02    3.58   12.88   11.01    8.89    2.26    9.23     9.2    7.06    0.63    11.0    7.57    6.18    8.03    8.59    4.94    9.27     0.4    3.75    9.26\n",
      "JP_Sales                          3.77    6.81    3.79    3.28   10.22    4.22     6.5    2.93     4.7    0.28    1.93    4.13     7.2     3.6    2.53    0.24    0.97    0.41    3.54    4.16\n",
      "...                                ...     ...     ...     ...     ...     ...     ...     ...     ...     ...     ...     ...     ...     ...     ...     ...     ...     ...     ...     ...\n",
      "Publisher_id Software            False   False   False   False   False   False   False   False   False   False   False   False   False   False   False   False   False   False   False   False\n",
      "Publisher_imageepoch Inc.        False   False   False   False   False   False   False   False   False   False   False   False   False   False   False   False   False   False   False   False\n",
      "Publisher_inXile Entertainment   False   False   False   False   False   False   False   False   False   False   False   False   False   False   False   False   False   False   False   False\n",
      "Publisher_mixi, Inc              False   False   False   False   False   False   False   False   False   False   False   False   False   False   False   False   False   False   False   False\n",
      "Publisher_responDESIGN           False   False   False   False   False   False   False   False   False   False   False   False   False   False   False   False   False   False   False   False\n",
      "\n",
      "[623 rows x 20 columns]\n"
     ]
    }
   ],
   "source": [
    "# One-hot encode the categorical features\n",
    "df_encoded = pd.get_dummies(df_cleaned, columns=['Platform', 'Genre', 'Publisher'], drop_first=True)\n",
    "\n",
    "# Optional: Drop any columns that won't be used in modeling (e.g., 'Name')\n",
    "df_encoded = df_encoded.drop(columns=['Name'], errors='ignore')\n",
    "\n",
    "# Improve display settings\n",
    "pd.set_option('display.max_columns', None)   # Show all columns\n",
    "pd.set_option('display.width', 3000)         # Prevent line wrapping\n",
    "pd.set_option('display.max_rows', 20)        # Control max rows shown\n",
    "\n",
    "# Transposed view to inspect the new features more easily\n",
    "print(\"\\n🔹 Transposed view of first 3 rows (easier to see all columns):\")\n",
    "print(df_encoded.head(20).T)"
   ]
  },
  {
   "cell_type": "code",
   "execution_count": 9,
   "id": "fc99561c-a6df-47b5-97e8-023ebea5b919",
   "metadata": {},
   "outputs": [
    {
     "name": "stdout",
     "output_type": "stream",
     "text": [
      "\n",
      "🔍 Linear Regression Evaluation:\n",
      "Mean Squared Error (MSE): 0.0000\n",
      "R² Score: 1.0000\n",
      "\n",
      "🔢 Feature Coefficients (Top 10):\n",
      "JP_Sales                        1.000297\n",
      "EU_Sales                        0.999987\n",
      "NA_Sales                        0.999962\n",
      "Other_Sales                     0.999870\n",
      "Publisher_Magical Company       0.010942\n",
      "Publisher_New                   0.010812\n",
      "Publisher_Tetris Online         0.010716\n",
      "Publisher_Jester Interactive    0.010670\n",
      "Publisher_Liquid Games          0.010429\n",
      "Publisher_NovaLogic             0.010360\n",
      "dtype: float64\n"
     ]
    }
   ],
   "source": [
    "# OPTIONAL: Drop columns not needed (you likely already dropped 'Name')\n",
    "# df = df.drop(columns=['Name'], errors='ignore')\n",
    "\n",
    "# Step 1: Define your features (X) and target (y)\n",
    "X = df_encoded.drop(columns=['Global_Sales'])  # All features except the target\n",
    "y = df_encoded['Global_Sales']                # Target variable\n",
    "\n",
    "# Step 2: Split into train and test sets\n",
    "X_train, X_test, y_train, y_test = train_test_split(X, y, test_size=0.2, random_state=42)\n",
    "\n",
    "# Step 3: Initialize and train the model\n",
    "model = LinearRegression()\n",
    "model.fit(X_train, y_train)\n",
    "\n",
    "# Step 4: Make predictions on the test set\n",
    "y_pred = model.predict(X_test)\n",
    "\n",
    "# Step 5: Evaluate the model\n",
    "mse = mean_squared_error(y_test, y_pred)\n",
    "r2 = r2_score(y_test, y_pred)\n",
    "\n",
    "print(\"\\n🔍 Linear Regression Evaluation:\")\n",
    "print(f\"Mean Squared Error (MSE): {mse:.4f}\")\n",
    "print(f\"R² Score: {r2:.4f}\")  # Closer to 1.0 is better\n",
    "\n",
    "# Optional: Check model coefficients\n",
    "coefficients = pd.Series(model.coef_, index=X.columns)\n",
    "print(\"\\n🔢 Feature Coefficients (Top 10):\")\n",
    "print(coefficients.sort_values(key=abs, ascending=False).head(10))"
   ]
  },
  {
   "cell_type": "code",
   "execution_count": null,
   "id": "1821854c-c5cf-4151-88b6-970fa58d9ab4",
   "metadata": {},
   "outputs": [],
   "source": [
    "\n"
   ]
  },
  {
   "cell_type": "code",
   "execution_count": null,
   "id": "9488d31c-12ce-4cbf-9c7f-8c2f4af415f4",
   "metadata": {},
   "outputs": [],
   "source": []
  }
 ],
 "metadata": {
  "kernelspec": {
   "display_name": "epickernel",
   "language": "python",
   "name": "epickernel"
  },
  "language_info": {
   "codemirror_mode": {
    "name": "ipython",
    "version": 3
   },
   "file_extension": ".py",
   "mimetype": "text/x-python",
   "name": "python",
   "nbconvert_exporter": "python",
   "pygments_lexer": "ipython3",
   "version": "3.12.6"
  }
 },
 "nbformat": 4,
 "nbformat_minor": 5
}
